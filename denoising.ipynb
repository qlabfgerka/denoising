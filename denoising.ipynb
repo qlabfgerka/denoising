{
 "cells": [
  {
   "cell_type": "markdown",
   "metadata": {},
   "source": [
    "# Odstranjevanje šuma z globoko nevronsko mrežo\n",
    "\n",
    "Naloga zajema generiranje učnih slik, ki vsebujejo naključno barvo ozadja in razne elemente (trikotnike, štirikotnike, elipse in zvezde), dodajanje šuma v generirane učne slike, uporabo učnih slik za učenje nevronske mreže za odstranjevanje šuma in testiranje nevronske mreže z novimi generiranimi slikami in resničnimi fotografijami."
   ]
  },
  {
   "cell_type": "markdown",
   "metadata": {},
   "source": [
    "## 1. Predstavitev pomožnih funkcij\n",
    "\n",
    "V spodnjem odseku so vsi uporabljeni uvoženi paketi, knjižnice in globalne spremenljivke. \n",
    "\n",
    "Nevronska mreža se je učila na grafični kartici."
   ]
  },
  {
   "cell_type": "code",
   "execution_count": null,
   "metadata": {},
   "outputs": [],
   "source": [
    "import cv2\n",
    "import numpy as np\n",
    "import matplotlib\n",
    "import matplotlib.pyplot as pyplot\n",
    "import matplotlib.image as mpimg\n",
    "import random\n",
    "import math\n",
    "import torch\n",
    "import os\n",
    "import torchvision\n",
    "from nn.nn import NeuralNetwork\n",
    "\n",
    "height = 256\n",
    "width = 512\n",
    "noise_types = [\"mul\", \"add\"]\n",
    "std_deviation = 0.3\n",
    "epochs = 10\n",
    "images_to_generate = 1000\n",
    "images_to_test = 1000\n",
    "device = torch.device(\"cuda\") if torch.cuda.is_available() else torch.device(\"cpu\")\n",
    "\n",
    "print(f\"Device: {device}\")"
   ]
  },
  {
   "cell_type": "markdown",
   "metadata": {},
   "source": [
    "Funkcija za generiranje naključnega števila med parametroma `min` in `max`."
   ]
  },
  {
   "cell_type": "code",
   "execution_count": null,
   "metadata": {},
   "outputs": [],
   "source": [
    "def random_number(min, max):\n",
    "  return random.randint(math.floor(min), math.floor(max))"
   ]
  },
  {
   "cell_type": "markdown",
   "metadata": {},
   "source": [
    "Funkcija za nalaganje vseh slik iz datoteke, uporabljeno za testiranje nevronske mreže z realnimi fotografijami."
   ]
  },
  {
   "cell_type": "code",
   "execution_count": null,
   "metadata": {},
   "outputs": [],
   "source": [
    "def load_images_from_folder(folder):\n",
    "  images = []\n",
    "  for filename in os.listdir(folder):\n",
    "      img = cv2.imread(os.path.join(folder,filename))\n",
    "      img = cv2.cvtColor(img, cv2.COLOR_BGR2RGB)\n",
    "      if img is not None:\n",
    "          images.append(img)\n",
    "  return images"
   ]
  },
  {
   "cell_type": "markdown",
   "metadata": {},
   "source": [
    "Pomožna funkcija za prikaz slike."
   ]
  },
  {
   "cell_type": "code",
   "execution_count": null,
   "metadata": {},
   "outputs": [],
   "source": [
    "def display_image(image, cmap=\"viridis\"):\n",
    "  imgplot = pyplot.imshow(image, cmap=cmap)\n",
    "  pyplot.axis('off')\n",
    "  pyplot.show()"
   ]
  },
  {
   "cell_type": "markdown",
   "metadata": {},
   "source": [
    "Prva veja nevronske mreže se uči na RGB kanalih slike, ta pomožna funkcija pa služi za razdelitev slike na tri kanale, in sicer na rdeč, zelen in moder kanal (RGB)."
   ]
  },
  {
   "cell_type": "code",
   "execution_count": null,
   "metadata": {},
   "outputs": [],
   "source": [
    "def get_rgb(image):\n",
    "  image_r = image[:,0:1,:,:]\n",
    "  image_g = image[:,1:2,:,:]\n",
    "  image_b = image[:,2:3,:,:]\n",
    "  return image_r, image_g, image_b"
   ]
  },
  {
   "cell_type": "markdown",
   "metadata": {},
   "source": [
    "Tenzorji morajo biti v obliki [N, channels, height, width], ta funkcija pa služi, da sliki doda novo dimenzijo in dimenzije transponira v obliko, ki je bila opisana."
   ]
  },
  {
   "cell_type": "code",
   "execution_count": null,
   "metadata": {},
   "outputs": [],
   "source": [
    "def expand(image): \n",
    "  expanded = image.transpose(-1, 0, 1)\n",
    "  expanded = np.expand_dims(expanded, axis = 0)\n",
    "  return expanded"
   ]
  },
  {
   "cell_type": "markdown",
   "metadata": {},
   "source": [
    "Slike so bile normalizirane na vrednosti na intervalu [0, 1], vendar se v določenih primerih (npr. dodajanju šuma) lahko zgodi, da bodo vrednosti izven tega intervala. V tem primeru uporabimo pomožno funkcijo, ki vrednosti večje od 1 postavi na 1, vrednosti manjše od 0 pa postavi na 0."
   ]
  },
  {
   "cell_type": "code",
   "execution_count": null,
   "metadata": {},
   "outputs": [],
   "source": [
    "def fix_image(image):\n",
    "  image[image > 1] = 1\n",
    "  image[image < 0] = 0"
   ]
  },
  {
   "cell_type": "markdown",
   "metadata": {},
   "source": [
    "## 2. Generiranje oblik\n",
    "\n",
    "V naslednjih štirih odsekih kode se nahajajo funkcije za generiranje trikotnikov, štirikotnikov, elips in zvezd.\n",
    "\n",
    "V vseh štirih primerih se generirajo naključno postavljene točke in tri naključna števila na intervalu [0, 255] za naključno barvo."
   ]
  },
  {
   "cell_type": "markdown",
   "metadata": {},
   "source": [
    "### 2.1 Generiranje trikotnikov\n",
    "\n",
    "Za generiranje trikotnikov se zgenerirajo tri naključne točke, ki se z uporabo `fillPoly` povežejo, med njimi pa se prostor zapolni z naključno generirano barvo."
   ]
  },
  {
   "cell_type": "code",
   "execution_count": null,
   "metadata": {},
   "outputs": [],
   "source": [
    "def create_triangle(rand_height_start, rand_height_end, rand_width_start, rand_width_end, image):\n",
    "  ppt = np.array([\n",
    "    [random_number(rand_width_start, rand_width_end), random_number(rand_height_start, rand_height_end)], \n",
    "    [random_number(rand_width_start, rand_width_end), random_number(rand_height_start, rand_height_end)], \n",
    "    [random_number(rand_width_start, rand_width_end), random_number(rand_height_start, rand_height_end)], \n",
    "  ], np.int32)\n",
    "\n",
    "  ppt = ppt.reshape((-1, 1, 2))\n",
    "  cv2.fillPoly(image, [ppt], (random_number(0, 255), random_number(0, 255), random_number(0, 255)), 8)"
   ]
  },
  {
   "cell_type": "markdown",
   "metadata": {},
   "source": [
    "### 2.2 Generiranje štirikotnikov\n",
    "\n",
    "Podobno kot za generiranje trikotnikov, vendar da se tukaj zgenerirajo štiri naključne točke."
   ]
  },
  {
   "cell_type": "code",
   "execution_count": null,
   "metadata": {},
   "outputs": [],
   "source": [
    "def create_rectangle(rand_height_start, rand_height_end, rand_width_start, rand_width_end, image):\n",
    "  ppt = np.array([\n",
    "    [random_number(rand_width_start, rand_width_end), random_number(rand_height_start, rand_height_end)], \n",
    "    [random_number(rand_width_start, rand_width_end), random_number(rand_height_start, rand_height_end)], \n",
    "    [random_number(rand_width_start, rand_width_end), random_number(rand_height_start, rand_height_end)], \n",
    "    [random_number(rand_width_start, rand_width_end), random_number(rand_height_start, rand_height_end)], \n",
    "  ], np.int32)\n",
    "\n",
    "  ppt = ppt.reshape((-1, 1, 2))\n",
    "  cv2.fillPoly(image, [ppt], (random_number(0, 255), random_number(0, 255), random_number(0, 255)), 8)"
   ]
  },
  {
   "cell_type": "markdown",
   "metadata": {},
   "source": [
    "### 2.3 Generiranje elips\n",
    "\n",
    "V primeru generiranja elips, pa se ustvari naključna točka, ki služi za središče in velikost elipse. Naključno se tudi pridobi kot na intervalu [0, 360], začetni in končni kot pa sta postavljena na 0 in 360 stopinj. Pridobi se naključna barva, parameter `-1` pa služi, da se elipsa zapolni z prej omenjeno barvo."
   ]
  },
  {
   "cell_type": "code",
   "execution_count": null,
   "metadata": {},
   "outputs": [],
   "source": [
    "def create_ellipse(height, width, image):\n",
    "  cv2.ellipse(\n",
    "    image,\n",
    "    (random_number(0, width), random_number(0, height)),\n",
    "    (random_number(0, width), random_number(0, height)),\n",
    "    random_number(0, 360),\n",
    "    0,\n",
    "    360,\n",
    "    (random_number(0, 255), random_number(0, 255), random_number(0, 255)),\n",
    "    -1,\n",
    "    8\n",
    "  )"
   ]
  },
  {
   "cell_type": "markdown",
   "metadata": {},
   "source": [
    "### 2.4 Generiranje zvezd\n",
    "\n",
    "Pri generiranju zvezd se ustvari 5 naključnih točk in se zračuna njihovo središče. Vsaka točka je nato povezana s tem središčem, tej črti pa je dodeljena naključna barva."
   ]
  },
  {
   "cell_type": "code",
   "execution_count": null,
   "metadata": {},
   "outputs": [],
   "source": [
    "def create_stars(height, width, image):\n",
    "  points = []\n",
    "  for i in range(5):\n",
    "    points.append((random_number(0, width), random_number(0, height)))\n",
    "\n",
    "  center = np.array(points).mean(axis = 0)\n",
    "\n",
    "  for point in points:\n",
    "    cv2.line(\n",
    "      image,\n",
    "      point,\n",
    "      (math.floor(center[0]), math.floor(center[1])),\n",
    "      (random_number(0, 255), random_number(0, 255), random_number(0, 255)),\n",
    "      2,\n",
    "      8\n",
    "    )"
   ]
  },
  {
   "cell_type": "markdown",
   "metadata": {},
   "source": [
    "## 3. Generiranje slike\n",
    "\n",
    "Ustvarijo se tri dvodimenzionalna polja velikosti (height x width), vsako polje ima eno naključno vrednost. Te tri polja se konkatenirajo, da se pridobi tridimenzionalno polje oblike [height, width, 3]. Na to polje se v naključnem vrstnem redu dodajajo elementi (trikotniki, štirikotniki, elipse in zvezde)."
   ]
  },
  {
   "cell_type": "code",
   "execution_count": null,
   "metadata": {},
   "outputs": [],
   "source": [
    "def generate_image(height, width, triangles, rectangles, ellipses, stars):\n",
    "  r = np.full((height, width), random_number(0, 255))\n",
    "  g = np.full((height, width), random_number(0, 255))\n",
    "  b = np.full((height, width), random_number(0, 255))\n",
    "\n",
    "  rand_height_start = height * -0.1\n",
    "  rand_height_end = height * 1.1 \n",
    "  rand_width_start = width * -0.1\n",
    "  rand_width_end = width * 1.1 \n",
    "\n",
    "  image = np.dstack((r, g, b))\n",
    "  shapes = [triangles, rectangles, ellipses, stars]\n",
    "  index = random_number(0, 3)\n",
    "  while sum(shapes) > 0:\n",
    "    while(shapes[index] == 0):\n",
    "      index = random_number(0, 3)\n",
    "    \n",
    "    if(index == 0):\n",
    "      create_triangle(rand_height_start, rand_height_end, rand_width_start, rand_width_end, image)\n",
    "    elif(index == 1):\n",
    "      create_rectangle(rand_height_start, rand_height_end, rand_width_start, rand_width_end, image)\n",
    "    elif(index == 2):\n",
    "      create_ellipse(height, width, image)\n",
    "    elif(index == 3):\n",
    "      create_stars(height, width, image)\n",
    "\n",
    "    shapes[index] -= 1\n",
    "\n",
    "  return image"
   ]
  },
  {
   "cell_type": "markdown",
   "metadata": {},
   "source": [
    "## 4. Dodajanje šuma\n",
    "\n",
    "Pri dodajanju šuma sta dve možnosti, in sicer dodajanje aditivnega in dodajanje multiplikativnega šuma. V primeru aditivnega šuma se šum pridobi s pomočjo Gaussove distribucije s povprečjem 0 in standardnim odklonom, kot je definiran zgoraj v globalnih spremenljivkah., v primeru multiplikativnega šuma pa je enak postopek, le da je povprečje 1. Dobljen šum se potem prišteje ali zmnoži (odvisno od tipa šuma) z vhodno sliko."
   ]
  },
  {
   "cell_type": "code",
   "execution_count": null,
   "metadata": {},
   "outputs": [],
   "source": [
    "def add_noise(image, type):\n",
    "  if type == \"add\":\n",
    "    noise = np.random.normal(0, std_deviation, image.shape)\n",
    "    image = image + noise\n",
    "  elif type == \"mul\":\n",
    "    noise = np.random.normal(1, std_deviation, image.shape)\n",
    "    image = image * noise\n",
    "\n",
    "  return image"
   ]
  },
  {
   "cell_type": "markdown",
   "metadata": {},
   "source": [
    "## 5. Učenje nevronske mreže\n",
    "\n",
    "Nevronska mreža je sestavljena iz dveh vej, zgradba pa je definirana v datotekah `nn.py`, `resnet.py` in `secondbranch.py`.\n",
    "\n",
    "**Resnet:**\n",
    "* V primeru prvega zaporednega resneta je prvi korak `Conv2d(3, 32, kernel_size=(3, 3), padding=\"same\")`, v nasprotnem primeru pa `Conv2d(32, 32, kernel_size=(3, 3), padding=\"same\")`\n",
    "* Nato sledijo koraki `BatchNorm2D`, `Dropout2D` in `ReLU` aktivacijska funkcija\n",
    "* Naslednji korak je ponovno Conv2D, in sicer `Conv2d(32, 32, kernel_size=(3, 3), padding=\"same\")`\n",
    "* Ponovno sledita koraka `BatchNorm2D` in `Dropout2D`\n",
    "* Na koncu se seštejeta vhodni tenzor in tenzor z vsemi koraki in se uporabi aktivacijska funkcija `ReLU`\n",
    "\n",
    "**Prva veja:**\n",
    "* Na vsakem izmed kanalov (R, G, B) se izvede `Conv2d(1, 8, kernel_size=(11, 11), padding=\"same\", bias=False)`\n",
    "\n",
    "**Druga veja:**\n",
    "* Izvedejo se trije zaporedni Resnet bloki\n",
    "* Sledi `Conv2d(32, 8, kernel_size=(1, 1), padding=\"same\")`\n",
    "* In na koncu `Softmax(dim=1)`\n",
    "\n",
    "**Združitev:**\n",
    "* Izhod iz prve veje so trije tenzorji, izhod iz druge veje pa en tenzor\n",
    "* Z vsakim tenzorjem iz prve veje se zmnoži drugi tenzor\n",
    "* Vsak izmed treh tenzorjev ima drugo dimenzijo `8`, ta dimenzija se sešteje v eno\n",
    "* Dobljeni so trije tenzorji oblike [N, 1, H, W], ki se konkatenirajo v [N, 3, H, W]"
   ]
  },
  {
   "cell_type": "code",
   "execution_count": null,
   "metadata": {},
   "outputs": [],
   "source": [
    "def train(noised, originals, model, optimizer, loss_fn, epochs):\n",
    "  model = model.to(device)\n",
    "\n",
    "  model.train()\n",
    "\n",
    "  for epoch in range(epochs):\n",
    "    print('epoch:', epoch)\n",
    "    for step in range(len(noised)):\n",
    "      if step % 100 == 0:\n",
    "        print('training image:', step)\n",
    "      image = torch.from_numpy(noised[step:step+1])\n",
    "\n",
    "      #print(image[0].shape)\n",
    "      #display_image(image[0].cpu().detach().numpy().transpose(1, 2, 0))\n",
    "\n",
    "      image_r, image_g, image_b = get_rgb(image)\n",
    "\n",
    "      #test_img = torch.cat((image_r, image_g, image_b), dim = 1)\n",
    "      #print(test_img.shape)\n",
    "\n",
    "      #display_image(test_img[0].cpu().detach().numpy().transpose(1, 2, 0))\n",
    "\n",
    "      original = torch.from_numpy(originals[step:step+1])\n",
    "\n",
    "      image = image.to(device)\n",
    "      image_r = image_r.to(device)\n",
    "      image_g = image_g.to(device)\n",
    "      image_b = image_b.to(device)\n",
    "\n",
    "      original = original.to(device)\n",
    "\n",
    "      #print(image.shape)\n",
    "      #print(image_r.shape)\n",
    "      #print(image_g.shape)\n",
    "      #print(image_b.shape)\n",
    "      pred = model(image, image_r, image_g, image_b)\n",
    "\n",
    "      loss = loss_fn(pred[0, :, :, :], original[0, :, :, :])\n",
    "\n",
    "      optimizer.zero_grad()\n",
    "\n",
    "      loss.backward()\n",
    "\n",
    "      optimizer.step()"
   ]
  },
  {
   "cell_type": "markdown",
   "metadata": {},
   "source": [
    "## 6.1 Preizkuševanje nevronske mreže z generiranimi slikami\n",
    "\n",
    "V tej funkciji se naučena nevronska mreža preizkusi z naključno generiranimi slikami."
   ]
  },
  {
   "cell_type": "code",
   "execution_count": null,
   "metadata": {},
   "outputs": [],
   "source": [
    "def test_generated(model, noise_type):\n",
    "  std_dev_original = 0\n",
    "  std_dev_denoised = 0\n",
    "  mse = 0\n",
    "\n",
    "  model = model.to(device)\n",
    "  model.eval()\n",
    "  \n",
    "  for i in range(images_to_test):\n",
    "    print('testing image:', i)\n",
    "    with torch.no_grad():\n",
    "      image = generate_image(height, width, 3, 3, 3, 3)\n",
    "        \n",
    "      image = image / 255\n",
    "\n",
    "      if i == 0:\n",
    "        display_image(image)\n",
    "\n",
    "      image = add_noise(image, noise_type)\n",
    "      fix_image(image)\n",
    "\n",
    "      if i == 0:\n",
    "        display_image(image)\n",
    "\n",
    "      images = expand(image)\n",
    "\n",
    "      images = images.astype(np.float32)\n",
    "\n",
    "      images = torch.from_numpy(images).to(device)\n",
    "      r, g, b = get_rgb(images)\n",
    "\n",
    "      r = r.to(device)\n",
    "      g = g.to(device)\n",
    "      b = b.to(device)\n",
    "\n",
    "      pred = model(images, r, g, b)\n",
    "      \n",
    "      fix_image(pred)\n",
    "\n",
    "      pred_img = pred[0, :, :, :].cpu().detach().numpy()\n",
    "      pred_img = pred_img.transpose(1, 2, 0)\n",
    "      #fix_image(pred_img)\n",
    "      \n",
    "      if i == 0:\n",
    "        display_image(pred_img)\n",
    "\n",
    "      mse += np.square(np.subtract(image, pred_img)).mean()\n",
    "      std_dev_denoised += torch.std(torch.from_numpy(pred_img))\n",
    "      std_dev_original += torch.std(torch.from_numpy(image))\n",
    "\n",
    "  std_dev_original /= images_to_test\n",
    "  std_dev_denoised /= images_to_test\n",
    "\n",
    "  mse /= images_to_test\n",
    "  psnr = 20 * math.log10(255/math.sqrt(mse))\n",
    "  snr = 10 * math.log10(std_dev_original/std_dev_denoised)\n",
    "\n",
    "  print(\"PSNR: \", psnr)\n",
    "  print(\"SNR: \", snr)"
   ]
  },
  {
   "cell_type": "markdown",
   "metadata": {},
   "source": [
    "## 6.2 Preizkuševanje nevronske mreže z resničnimi fotografijami\n",
    "\n",
    "V tej funkciji pa se naučena nevronska mreža preizkusi z resničnimi fotografijami, ki so naložene iz diska."
   ]
  },
  {
   "cell_type": "code",
   "execution_count": null,
   "metadata": {},
   "outputs": [],
   "source": [
    "def test_from_disk(model):\n",
    "  loaded_images = load_images_from_folder(\"assets\")\n",
    "\n",
    "  for image in loaded_images:\n",
    "    h, w, c = image.shape\n",
    "    image = image / 255\n",
    "\n",
    "    display_image(image)\n",
    "\n",
    "    images = expand(image)\n",
    "\n",
    "    images = images.astype(np.float32)\n",
    "\n",
    "    images = torch.from_numpy(images).to(device)\n",
    "    \n",
    "    r = images[:,0,:,:].reshape(1, 1, h, w).to(device)\n",
    "    g = images[:,1,:,:].reshape(1, 1, h, w).to(device)\n",
    "    b = images[:,2,:,:].reshape(1, 1, h, w).to(device)\n",
    "\n",
    "    pred = model(images, r, g, b)\n",
    "\n",
    "    pred_img = pred[0, :, :, :].cpu().detach().numpy()\n",
    "    pred_img = pred_img.transpose(1, 2, 0)\n",
    "    fix_image(pred_img)\n",
    "\n",
    "    display_image(pred_img)"
   ]
  },
  {
   "cell_type": "markdown",
   "metadata": {},
   "source": [
    "## 7. Generiranje slik\n",
    "\n",
    "Še zadnja pomožna funkcija, ki zgenerira N naključnih slik in jim doda aditivni ali multiplikativni šum, ter jim spremeni obliko v [N, 3, H, W]"
   ]
  },
  {
   "cell_type": "code",
   "execution_count": null,
   "metadata": {},
   "outputs": [],
   "source": [
    "def get_images(noise_type):\n",
    "  originals = np.empty((images_to_generate, height, width, 3))\n",
    "  noised = np.empty((images_to_generate, height, width, 3))\n",
    "  for i in range(images_to_generate):\n",
    "    image = generate_image(height, width, 3, 3, 3, 3)\n",
    "    image = image / 255\n",
    "\n",
    "    originals[i] = image\n",
    "\n",
    "    noised_image = add_noise(image, noise_type)\n",
    "    fix_image(noised_image)\n",
    "\n",
    "    noised[i] = noised_image\n",
    "\n",
    "  fig, ax = pyplot.subplots(1, 2)\n",
    "\n",
    "  ax[0].set_title(f'{1}')\n",
    "  ax[0].imshow(originals[0, :, :, :])\n",
    "  ax[0].set_axis_off()\n",
    "\n",
    "  ax[1].set_title(f'{2}')\n",
    "  ax[1].imshow(noised[0, :, :, :])\n",
    "  ax[1].set_axis_off()\n",
    "\n",
    "  #originals = np.reshape(originals, (images_to_generate, height, width, 3))\n",
    "  originals = np.transpose(originals, (0, 3, 1, 2))\n",
    "\n",
    "  #noised = np.reshape(noised, (images_to_generate, height, width, 3))\n",
    "  noised = np.transpose(noised, (0, 3, 1, 2))\n",
    "\n",
    "  #print(originals.shape)\n",
    "  #print(noised.shape)\n",
    "\n",
    "  #test_org = originals[0, :, :, :].transpose(1, 2, 0)\n",
    "  #test_noised = noised[0, :, :, :].transpose(1, 2, 0)\n",
    "\n",
    "  #print(test_org.shape)\n",
    "  #print(test_noised.shape)\n",
    "\n",
    "  #display_image(test_org)\n",
    "  #display_image(test_noised)\n",
    "\n",
    "  return originals, noised"
   ]
  },
  {
   "cell_type": "markdown",
   "metadata": {},
   "source": [
    "## 8. Prikaz naključno generiranih slik\n",
    "\n",
    "V spodnjem izpisu so prikazane naključno generirane slike v štirih vrstah:\n",
    "* prva vrsta - naključne slike s tremi trikotniki\n",
    "* druga vrsta - naključne slike s tremi štirikotniki\n",
    "* tretja vrsta - naključne slike s tremi elipsami\n",
    "* četrta vrsta - naključne slike s tremi zvezdami\n",
    "* peta vrsta - naključne slike s tremi izmed vsakega elementa"
   ]
  },
  {
   "cell_type": "code",
   "execution_count": null,
   "metadata": {},
   "outputs": [],
   "source": [
    "for i in range(5):\n",
    "  array = [0, 0, 0, 0]\n",
    "\n",
    "  if i == 4:\n",
    "    array = [3, 3, 3, 3]\n",
    "  else:\n",
    "    array[i] = 3\n",
    "\n",
    "  generated_images = np.empty((5, 256, 256, 3))\n",
    "  for j in range(5):\n",
    "    generated_images[j] = generate_image(256, 256, array[0], array[1], array[2], array[3])\n",
    "    generated_images[j] /= 255\n",
    "    generated_images[generated_images > 1] = 1\n",
    "    generated_images[generated_images < 0] = 0\n",
    "\n",
    "  fig, ax = pyplot.subplots(1, 5)\n",
    "  for n in range(5):\n",
    "    ax[n].set_title(f'{n + 1}')\n",
    "    ax[n].imshow(generated_images[n, :, :, :])\n",
    "    ax[n].set_axis_off()"
   ]
  },
  {
   "cell_type": "markdown",
   "metadata": {},
   "source": [
    "## 9. Prikaz učenja in testiranja\n",
    "\n",
    "Spodnja for zanka služi, da se nevronska mreža prvo nauči za aditivni šum, nato pa za multiplikativni šum.\n",
    "\n",
    "Spodnji izpisi prikazujejo naključno generirano sliko z in brez šuma, nato pa učenje in testiranje na 1000 naključnih slikah, kjer se prikaže rezultat le za prvo sliko. Na koncu pa še sledi testiranje na vseh slikah, naloženih iz datoteke."
   ]
  },
  {
   "cell_type": "code",
   "execution_count": null,
   "metadata": {},
   "outputs": [],
   "source": [
    "for noise_type in noise_types:\n",
    "  print('------------------------')\n",
    "  print('NOISE TYPE:', noise_type)\n",
    "  \n",
    "  print('generating images...')\n",
    "\n",
    "  originals, noised = get_images(noise_type)\n",
    "\n",
    "  print('generated images')\n",
    "\n",
    "  model = NeuralNetwork()\n",
    "  optimizer = torch.optim.Adam(model.parameters(), lr=1e-3)\n",
    "  loss_fn = torch.nn.MSELoss()\n",
    "\n",
    "  model = model.to(device)\n",
    "\n",
    "  noised = noised.astype(np.float32)\n",
    "  originals = originals.astype(np.float32)\n",
    "\n",
    "  print('training...')\n",
    "\n",
    "  train(noised, originals, model, optimizer, loss_fn, epochs)\n",
    "\n",
    "  print('done training')\n",
    "\n",
    "  torch.save(model, \"denoising.pt\")\n",
    "\n",
    "  filters = model.filter_layer.weight.cpu().detach().numpy()\n",
    "  N = filters.shape[0]\n",
    "\n",
    "  fig, ax = pyplot.subplots(1, N)\n",
    "  for n in range(N):\n",
    "    ax[n].set_title(f'{n}')\n",
    "    ax[n].imshow(filters[n, 0], cmap='gray')\n",
    "    ax[n].set_axis_off()\n",
    "\n",
    "  test_generated(model, noise_type)\n",
    "  test_from_disk(model)"
   ]
  }
 ],
 "metadata": {
  "kernelspec": {
   "display_name": "Python 3.10.2 64-bit",
   "language": "python",
   "name": "python3"
  },
  "language_info": {
   "codemirror_mode": {
    "name": "ipython",
    "version": 3
   },
   "file_extension": ".py",
   "mimetype": "text/x-python",
   "name": "python",
   "nbconvert_exporter": "python",
   "pygments_lexer": "ipython3",
   "version": "3.10.2"
  },
  "orig_nbformat": 4,
  "vscode": {
   "interpreter": {
    "hash": "6532684ccaeb1bcbbe852b7f75c67e6f1d55df7d386020fd37670376cbe3d2c9"
   }
  }
 },
 "nbformat": 4,
 "nbformat_minor": 2
}
