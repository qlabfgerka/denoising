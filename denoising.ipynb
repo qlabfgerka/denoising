{
 "cells": [
  {
   "cell_type": "code",
   "execution_count": null,
   "metadata": {},
   "outputs": [],
   "source": [
    "import cv2\n",
    "import numpy as np\n",
    "import matplotlib.pyplot as plt\n",
    "import matplotlib.image as mpimg\n",
    "import random\n",
    "import math\n",
    "import torch\n",
    "import torchvision\n",
    "from nn.nn import NeuralNetwork\n",
    "\n",
    "height = 256\n",
    "width = 256\n",
    "noise_type = \"mul\"\n",
    "std_deviation = 0.3\n",
    "file_path = \"\"\n",
    "device = torch.device(\"cuda\") if torch.cuda.is_available() else torch.device(\"cpu\")\n",
    "\n",
    "print(f\"Device: {device}\")"
   ]
  },
  {
   "cell_type": "code",
   "execution_count": null,
   "metadata": {},
   "outputs": [],
   "source": [
    "def random_number(min, max):\n",
    "  return random.randint(math.floor(min), math.floor(max))"
   ]
  },
  {
   "cell_type": "code",
   "execution_count": null,
   "metadata": {},
   "outputs": [],
   "source": [
    "def display_image(image):\n",
    "  imgplot = plt.imshow(image)\n",
    "  plt.axis('off')\n",
    "  plt.show()"
   ]
  },
  {
   "cell_type": "code",
   "execution_count": null,
   "metadata": {},
   "outputs": [],
   "source": [
    "def get_rgb(image):\n",
    "  image_r = image[:,0,:,:].reshape(1, 1, height, width)\n",
    "  image_g = image[:,1,:,:].reshape(1, 1, height, width)\n",
    "  image_b = image[:,2,:,:].reshape(1, 1, height, width)\n",
    "  return image_r, image_g, image_b"
   ]
  },
  {
   "cell_type": "code",
   "execution_count": null,
   "metadata": {},
   "outputs": [],
   "source": [
    "def expand(image): \n",
    "  expanded = image.transpose(-1, 0, 1)\n",
    "  expanded = np.expand_dims(expanded, axis = 0)\n",
    "  return expanded"
   ]
  },
  {
   "cell_type": "code",
   "execution_count": null,
   "metadata": {},
   "outputs": [],
   "source": [
    "def fix_image(image):\n",
    "  image[image > 1] = 1\n",
    "  image[image < 0] = 0"
   ]
  },
  {
   "cell_type": "code",
   "execution_count": null,
   "metadata": {},
   "outputs": [],
   "source": [
    "def create_triangle(rand_height_start, rand_height_end, rand_width_start, rand_width_end, image):\n",
    "  ppt = np.array([\n",
    "    [random_number(rand_width_start, rand_width_end), random_number(rand_height_start, rand_height_end)], \n",
    "    [random_number(rand_width_start, rand_width_end), random_number(rand_height_start, rand_height_end)], \n",
    "    [random_number(rand_width_start, rand_width_end), random_number(rand_height_start, rand_height_end)], \n",
    "  ], np.int32)\n",
    "\n",
    "  ppt = ppt.reshape((-1, 1, 2))\n",
    "  cv2.fillPoly(image, [ppt], (random_number(0, 255), random_number(0, 255), random_number(0, 255)), 8)"
   ]
  },
  {
   "cell_type": "code",
   "execution_count": null,
   "metadata": {},
   "outputs": [],
   "source": [
    "def create_rectangle(rand_height_start, rand_height_end, rand_width_start, rand_width_end, image):\n",
    "  ppt = np.array([\n",
    "    [random_number(rand_width_start, rand_width_end), random_number(rand_height_start, rand_height_end)], \n",
    "    [random_number(rand_width_start, rand_width_end), random_number(rand_height_start, rand_height_end)], \n",
    "    [random_number(rand_width_start, rand_width_end), random_number(rand_height_start, rand_height_end)], \n",
    "    [random_number(rand_width_start, rand_width_end), random_number(rand_height_start, rand_height_end)], \n",
    "  ], np.int32)\n",
    "\n",
    "  ppt = ppt.reshape((-1, 1, 2))\n",
    "  cv2.fillPoly(image, [ppt], (random_number(0, 255), random_number(0, 255), random_number(0, 255)), 8)"
   ]
  },
  {
   "cell_type": "code",
   "execution_count": null,
   "metadata": {},
   "outputs": [],
   "source": [
    "def create_ellipse(height, width, image):\n",
    "  cv2.ellipse(\n",
    "    image,\n",
    "    (random_number(0, width), random_number(0, height)),\n",
    "    (random_number(0, width), random_number(0, height)),\n",
    "    random_number(0, 360),\n",
    "    0,\n",
    "    360,\n",
    "    (random_number(0, 255), random_number(0, 255), random_number(0, 255)),\n",
    "    -1,\n",
    "    8\n",
    "  )"
   ]
  },
  {
   "cell_type": "code",
   "execution_count": null,
   "metadata": {},
   "outputs": [],
   "source": [
    "def create_stars(height, width, image):\n",
    "  points = []\n",
    "  for i in range(5):\n",
    "    points.append((random_number(0, width), random_number(0, height)))\n",
    "\n",
    "  center = np.array(points).mean(axis = 0)\n",
    "\n",
    "  for point in points:\n",
    "    cv2.line(\n",
    "      image,\n",
    "      point,\n",
    "      (math.floor(center[0]), math.floor(center[1])),\n",
    "      (random_number(0, 255), random_number(0, 255), random_number(0, 255)),\n",
    "      2,\n",
    "      8\n",
    "    )\n"
   ]
  },
  {
   "cell_type": "code",
   "execution_count": null,
   "metadata": {},
   "outputs": [],
   "source": [
    "def generate_image(height, width, triangles, rectangles, ellipses, stars):\n",
    "  r = np.full((height, width), random_number(0, 255))\n",
    "  g = np.full((height, width), random_number(0, 255))\n",
    "  b = np.full((height, width), random_number(0, 255))\n",
    "\n",
    "  rand_height_start = height * -0.1\n",
    "  rand_height_end = height * 1.1 \n",
    "  rand_width_start = width * -0.1\n",
    "  rand_width_end = width * 1.1 \n",
    "\n",
    "  image = np.dstack((r, g, b))\n",
    "  shapes = [triangles, rectangles, ellipses, stars]\n",
    "  index = random_number(0, 3)\n",
    "  while sum(shapes) > 0:\n",
    "    while(shapes[index] == 0):\n",
    "      index = random_number(0, 3)\n",
    "    \n",
    "    if(index == 0):\n",
    "      create_triangle(rand_height_start, rand_height_end, rand_width_start, rand_width_end, image)\n",
    "    elif(index == 1):\n",
    "      create_rectangle(rand_height_start, rand_height_end, rand_width_start, rand_width_end, image)\n",
    "    elif(index == 2):\n",
    "      create_ellipse(height, width, image)\n",
    "    elif(index == 3):\n",
    "      create_stars(height, width, image)\n",
    "\n",
    "    shapes[index] -= 1\n",
    "\n",
    "  return image"
   ]
  },
  {
   "cell_type": "code",
   "execution_count": null,
   "metadata": {},
   "outputs": [],
   "source": [
    "def add_noise(image, type):\n",
    "  if type == \"add\":\n",
    "    noise = np.random.normal(0, std_deviation, image.shape)\n",
    "    image = image + noise\n",
    "  elif type == \"mul\":\n",
    "    noise = np.random.normal(1, std_deviation, image.shape)\n",
    "    image = image * noise\n",
    "\n",
    "  return image"
   ]
  },
  {
   "cell_type": "code",
   "execution_count": null,
   "metadata": {},
   "outputs": [],
   "source": [
    "def train(noised, originals, model, optimizer, loss_fn, epochs, print_step):\n",
    "  model = model.to(device)\n",
    "\n",
    "  model.train()\n",
    "\n",
    "  for epoch in range(epochs):\n",
    "    loss_sum = 0\n",
    "    true_sum = 0\n",
    "\n",
    "    for step in range(len(noised)):\n",
    "      image = torch.from_numpy(noised[step:step+1])\n",
    "      image_r, image_g, image_b = get_rgb(image)\n",
    "\n",
    "      original = torch.from_numpy(originals[step:step+1])\n",
    "\n",
    "      image = image.to(device)\n",
    "      image_r = image_r.to(device)\n",
    "      image_g = image_g.to(device)\n",
    "      image_b = image_b.to(device)\n",
    "\n",
    "      original = original.to(device)\n",
    "\n",
    "      #print(image.shape)\n",
    "      #print(image_r.shape)\n",
    "      #print(image_g.shape)\n",
    "      #print(image_b.shape)\n",
    "      pred = model(image, image_r, image_g, image_b)\n",
    "\n",
    "      loss = loss_fn(pred, original)\n",
    "\n",
    "      optimizer.zero_grad()\n",
    "\n",
    "      loss.backward()\n",
    "\n",
    "      optimizer.step()\n",
    "\n",
    "      loss_sum += loss.item()"
   ]
  },
  {
   "cell_type": "code",
   "execution_count": null,
   "metadata": {},
   "outputs": [],
   "source": [
    "if(file_path == \"\"):\n",
    "  image = generate_image(height, width, 3, 3, 3, 3)\n",
    "else:\n",
    "  image = cv2.imread(file_path)\n",
    "  image = cv2.cvtColor(image, cv2.COLOR_BGR2RGB)\n",
    "\n",
    "image = image / 255\n",
    "\n",
    "display_image(image)"
   ]
  },
  {
   "cell_type": "code",
   "execution_count": null,
   "metadata": {},
   "outputs": [],
   "source": [
    "noised_image = add_noise(image, noise_type)\n",
    "fix_image(noised_image)\n",
    "\n",
    "display_image(noised_image)\n",
    "\n",
    "noised = expand(noised_image)\n",
    "originals = expand(image)"
   ]
  },
  {
   "cell_type": "code",
   "execution_count": null,
   "metadata": {},
   "outputs": [],
   "source": [
    "model = NeuralNetwork()\n",
    "optimizer = torch.optim.Adam(model.parameters(), lr=1e-3)\n",
    "loss_fn = torch.nn.CrossEntropyLoss()\n",
    "\n",
    "model = model.to(device)\n",
    "\n",
    "noised = noised.astype(np.float32)\n",
    "originals = originals.astype(np.float32)\n",
    "train(noised, originals, model, optimizer, loss_fn, 10, 100)\n",
    "\n",
    "print('done training')"
   ]
  },
  {
   "cell_type": "code",
   "execution_count": null,
   "metadata": {},
   "outputs": [],
   "source": [
    "new_image = generate_image(height, width, 3, 3, 3, 3)\n",
    "new_image = new_image / 255\n",
    "\n",
    "display_image(new_image)\n",
    "\n",
    "new_image = add_noise(new_image, noise_type)\n",
    "fix_image(new_image)\n",
    "\n",
    "display_image(new_image)\n",
    "\n",
    "new_images = expand(new_image)\n",
    "\n",
    "new_images = new_images.astype(np.float32)\n",
    "\n",
    "new_images = torch.from_numpy(new_images)\n",
    "new_image_r, new_image_g, new_image_b = get_rgb(new_images)\n",
    "\n",
    "new_image_r = new_image_r.to(device)\n",
    "new_image_g = new_image_g.to(device)\n",
    "new_image_b = new_image_b.to(device)\n",
    "\n",
    "pred = model(new_images, new_image_r, new_image_g, new_image_b)\n",
    "fix_image(pred)\n",
    "\n",
    "pred_img = pred[0, :, :, :].detach().numpy()\n",
    "pred_img = pred_img.transpose(1, 2, 0)\n",
    "\n",
    "display_image(pred_img)"
   ]
  }
 ],
 "metadata": {
  "kernelspec": {
   "display_name": "Python 3.10.2 64-bit",
   "language": "python",
   "name": "python3"
  },
  "language_info": {
   "codemirror_mode": {
    "name": "ipython",
    "version": 3
   },
   "file_extension": ".py",
   "mimetype": "text/x-python",
   "name": "python",
   "nbconvert_exporter": "python",
   "pygments_lexer": "ipython3",
   "version": "3.10.2"
  },
  "orig_nbformat": 4,
  "vscode": {
   "interpreter": {
    "hash": "6532684ccaeb1bcbbe852b7f75c67e6f1d55df7d386020fd37670376cbe3d2c9"
   }
  }
 },
 "nbformat": 4,
 "nbformat_minor": 2
}
