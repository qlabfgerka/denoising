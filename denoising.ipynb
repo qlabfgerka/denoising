{
 "cells": [
  {
   "cell_type": "code",
   "execution_count": null,
   "metadata": {},
   "outputs": [],
   "source": [
    "import cv2\n",
    "import numpy as np\n",
    "import matplotlib.pyplot as plt\n",
    "import matplotlib.image as mpimg\n",
    "import random\n",
    "import math\n",
    "\n",
    "height = 256\n",
    "width = 256\n",
    "noise_type=\"mul\"\n",
    "std_deviation = 0.3"
   ]
  },
  {
   "cell_type": "code",
   "execution_count": null,
   "metadata": {},
   "outputs": [],
   "source": [
    "def random_number(min, max):\n",
    "  return random.randint(math.floor(min), math.floor(max))"
   ]
  },
  {
   "cell_type": "code",
   "execution_count": null,
   "metadata": {},
   "outputs": [],
   "source": [
    "def create_triangle(rand_height_start, rand_height_end, rand_width_start, rand_width_end, image):\n",
    "  ppt = np.array([\n",
    "    [random_number(rand_width_start, rand_width_end), random_number(rand_height_start, rand_height_end)], \n",
    "    [random_number(rand_width_start, rand_width_end), random_number(rand_height_start, rand_height_end)], \n",
    "    [random_number(rand_width_start, rand_width_end), random_number(rand_height_start, rand_height_end)], \n",
    "  ], np.int32)\n",
    "\n",
    "  ppt = ppt.reshape((-1, 1, 2))\n",
    "  cv2.fillPoly(image, [ppt], (random_number(0, 255), random_number(0, 255), random_number(0, 255)), 8)"
   ]
  },
  {
   "cell_type": "code",
   "execution_count": null,
   "metadata": {},
   "outputs": [],
   "source": [
    "def create_rectangle(rand_height_start, rand_height_end, rand_width_start, rand_width_end, image):\n",
    "  ppt = np.array([\n",
    "    [random_number(rand_width_start, rand_width_end), random_number(rand_height_start, rand_height_end)], \n",
    "    [random_number(rand_width_start, rand_width_end), random_number(rand_height_start, rand_height_end)], \n",
    "    [random_number(rand_width_start, rand_width_end), random_number(rand_height_start, rand_height_end)], \n",
    "    [random_number(rand_width_start, rand_width_end), random_number(rand_height_start, rand_height_end)], \n",
    "  ], np.int32)\n",
    "\n",
    "  ppt = ppt.reshape((-1, 1, 2))\n",
    "  cv2.fillPoly(image, [ppt], (random_number(0, 255), random_number(0, 255), random_number(0, 255)), 8)"
   ]
  },
  {
   "cell_type": "code",
   "execution_count": null,
   "metadata": {},
   "outputs": [],
   "source": [
    "def create_ellipse(height, width, image):\n",
    "  cv2.ellipse(\n",
    "    image,\n",
    "    (random_number(0, width), random_number(0, height)),\n",
    "    (random_number(0, width), random_number(0, height)),\n",
    "    random_number(0, 360),\n",
    "    0,\n",
    "    360,\n",
    "    (random_number(0, 255), random_number(0, 255), random_number(0, 255)),\n",
    "    -1,\n",
    "    8\n",
    "  )"
   ]
  },
  {
   "cell_type": "code",
   "execution_count": null,
   "metadata": {},
   "outputs": [],
   "source": [
    "def create_stars(height, width, image):\n",
    "  points = []\n",
    "  for i in range(5):\n",
    "    points.append((random_number(0, width), random_number(0, height)))\n",
    "\n",
    "  center = np.array(points).mean(axis = 0)\n",
    "\n",
    "  for point in points:\n",
    "    cv2.line(\n",
    "      image,\n",
    "      point,\n",
    "      (math.floor(center[0]), math.floor(center[1])),\n",
    "      (random_number(0, 255), random_number(0, 255), random_number(0, 255)),\n",
    "      2,\n",
    "      8\n",
    "    )\n"
   ]
  },
  {
   "cell_type": "code",
   "execution_count": null,
   "metadata": {},
   "outputs": [],
   "source": [
    "def generate_image(height, width, triangles, rectangles, ellipses, stars):\n",
    "  r = np.full((height, width), random_number(0, 255))\n",
    "  g = np.full((height, width), random_number(0, 255))\n",
    "  b = np.full((height, width), random_number(0, 255))\n",
    "\n",
    "  rand_height_start = height * -0.1\n",
    "  rand_height_end = height * 1.1 \n",
    "  rand_width_start = width * -0.1\n",
    "  rand_width_end = width * 1.1 \n",
    "\n",
    "  image = np.dstack((r, g, b))\n",
    "  shapes = [triangles, rectangles, ellipses, stars]\n",
    "  index = random_number(0, 3)\n",
    "  print(sum(shapes))\n",
    "  while sum(shapes) > 0:\n",
    "    while(shapes[index] == 0):\n",
    "      index = random_number(0, 3)\n",
    "    \n",
    "    if(index == 0):\n",
    "      create_triangle(rand_height_start, rand_height_end, rand_width_start, rand_width_end, image)\n",
    "    elif(index == 1):\n",
    "      create_rectangle(rand_height_start, rand_height_end, rand_width_start, rand_width_end, image)\n",
    "    elif(index == 2):\n",
    "      create_ellipse(height, width, image)\n",
    "    elif(index == 3):\n",
    "      create_stars(height, width, image)\n",
    "\n",
    "    shapes[index] -= 1\n",
    "\n",
    "  return image"
   ]
  },
  {
   "cell_type": "code",
   "execution_count": null,
   "metadata": {},
   "outputs": [],
   "source": [
    "def add_noise(image, type):\n",
    "  if type == \"add\":\n",
    "    noise = np.random.normal(0, std_deviation, image.shape)\n",
    "    image = image + noise\n",
    "  elif type == \"mul\":\n",
    "    noise = np.random.normal(1, std_deviation, image.shape)\n",
    "    image = image * noise\n",
    "\n",
    "  return image\n"
   ]
  },
  {
   "cell_type": "code",
   "execution_count": null,
   "metadata": {},
   "outputs": [],
   "source": [
    "image = generate_image(height, width, 3, 3, 3, 3)\n",
    "image = image / 255\n",
    "\n",
    "imgplot = plt.imshow(image)\n",
    "plt.axis('off')\n",
    "plt.show()"
   ]
  },
  {
   "cell_type": "code",
   "execution_count": null,
   "metadata": {},
   "outputs": [],
   "source": [
    "noised_image = add_noise(image, noise_type)\n",
    "noised_image[noised_image > 1] = 1\n",
    "\n",
    "imgplot = plt.imshow(noised_image)\n",
    "plt.axis('off')\n",
    "plt.show()"
   ]
  }
 ],
 "metadata": {
  "kernelspec": {
   "display_name": "Python 3.10.2 64-bit",
   "language": "python",
   "name": "python3"
  },
  "language_info": {
   "codemirror_mode": {
    "name": "ipython",
    "version": 3
   },
   "file_extension": ".py",
   "mimetype": "text/x-python",
   "name": "python",
   "nbconvert_exporter": "python",
   "pygments_lexer": "ipython3",
   "version": "3.10.2"
  },
  "orig_nbformat": 4,
  "vscode": {
   "interpreter": {
    "hash": "6532684ccaeb1bcbbe852b7f75c67e6f1d55df7d386020fd37670376cbe3d2c9"
   }
  }
 },
 "nbformat": 4,
 "nbformat_minor": 2
}
